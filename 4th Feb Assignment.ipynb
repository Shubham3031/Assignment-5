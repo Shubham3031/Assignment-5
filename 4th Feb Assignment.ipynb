{
 "cells": [
  {
   "cell_type": "code",
   "execution_count": 3,
   "id": "bbe73748-be8d-4c7a-8874-caa826513cec",
   "metadata": {},
   "outputs": [
    {
     "name": "stdout",
     "output_type": "stream",
     "text": [
      "[('Virat Kohli', 24936), ('Jack Kallis', 25534), ('Ricky Ponting', 27483), ('Sachin Tendulkar', 34357)]\n"
     ]
    }
   ],
   "source": [
    "# 1.Ans.\n",
    "tupple = [('Sachin Tendulkar', 34357), ('Ricky Ponting', 27483), ('Jack Kallis', 25534), ('Virat Kohli', 24936)]\n",
    "sorted_tupple = sorted(tupple, key = lambda x:x[1])\n",
    "print(sorted_tupple)\n",
    "                                                                                          \n"
   ]
  },
  {
   "cell_type": "code",
   "execution_count": 10,
   "id": "c5fa0f8f-d2e8-4be2-b8eb-172a43df9e00",
   "metadata": {},
   "outputs": [
    {
     "name": "stdout",
     "output_type": "stream",
     "text": [
      "[1, 4, 9, 16, 25, 36, 49, 64, 81, 100]\n"
     ]
    }
   ],
   "source": [
    "# 2.Ans.\n",
    "l = [1, 2, 3, 4, 5, 6, 7, 8, 9, 10]\n",
    "square_l = list(map(lambda x:x**2,l))\n",
    "print(square_l)\n"
   ]
  },
  {
   "cell_type": "code",
   "execution_count": 15,
   "id": "d2ce738b-c636-4e8e-abcb-a2d262cb4199",
   "metadata": {},
   "outputs": [
    {
     "name": "stdout",
     "output_type": "stream",
     "text": [
      "('1', '2', '3', '4', '5', '6', '7', '8', '9', '10')\n"
     ]
    }
   ],
   "source": [
    "# 3.Ans.\n",
    "l =  [1, 2, 3, 4, 5, 6, 7, 8, 9, 10]\n",
    "convert_l = tuple(map(lambda x:str(x),l))\n",
    "print(convert_l)"
   ]
  },
  {
   "cell_type": "code",
   "execution_count": 20,
   "id": "606f04a6-26dc-4226-ac70-e030a44c5d09",
   "metadata": {},
   "outputs": [
    {
     "data": {
      "text/plain": [
       "15511210043330985984000000"
      ]
     },
     "execution_count": 20,
     "metadata": {},
     "output_type": "execute_result"
    }
   ],
   "source": [
    "# 4.Ans.\n",
    "from functools import reduce\n",
    "l = list(range(1,26))\n",
    "reduce(lambda x,y:x*y,l)\n",
    "\n",
    "\n"
   ]
  },
  {
   "cell_type": "code",
   "execution_count": 28,
   "id": "be371f2c-ca7e-4e46-96e4-310b465db3d2",
   "metadata": {},
   "outputs": [
    {
     "name": "stdout",
     "output_type": "stream",
     "text": [
      "[6, 60, 90, 120]\n"
     ]
    }
   ],
   "source": [
    "# 5.Ans.\n",
    "l = [2, 3, 6, 9, 27, 60, 90, 120, 55, 46]\n",
    "ans = list(filter(lambda x:x%2==0 and x%3==0,l))\n",
    "print(ans)\n",
    "\n",
    "    "
   ]
  },
  {
   "cell_type": "code",
   "execution_count": 33,
   "id": "4c2a5f1f-6df5-42ad-8193-6696f4b08a2f",
   "metadata": {},
   "outputs": [
    {
     "name": "stdout",
     "output_type": "stream",
     "text": [
      "['php', 'aba', 'radar', 'level']\n"
     ]
    }
   ],
   "source": [
    "# 6.Ans.\n",
    "l  = ['python', 'php', 'aba', 'radar', 'level']\n",
    "palindrome = list(filter(lambda x:x==x[::-1],l))\n",
    "print(palindrome)\n"
   ]
  },
  {
   "cell_type": "code",
   "execution_count": null,
   "id": "59eec214-7b67-4604-a38f-e74235d0cf59",
   "metadata": {},
   "outputs": [],
   "source": []
  }
 ],
 "metadata": {
  "kernelspec": {
   "display_name": "Python 3 (ipykernel)",
   "language": "python",
   "name": "python3"
  },
  "language_info": {
   "codemirror_mode": {
    "name": "ipython",
    "version": 3
   },
   "file_extension": ".py",
   "mimetype": "text/x-python",
   "name": "python",
   "nbconvert_exporter": "python",
   "pygments_lexer": "ipython3",
   "version": "3.10.6"
  }
 },
 "nbformat": 4,
 "nbformat_minor": 5
}
